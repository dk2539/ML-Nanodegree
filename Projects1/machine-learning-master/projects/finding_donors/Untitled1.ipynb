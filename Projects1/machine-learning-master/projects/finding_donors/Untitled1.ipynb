{
 "cells": [
  {
   "cell_type": "code",
   "execution_count": 1,
   "metadata": {},
   "outputs": [
    {
     "ename": "IndentationError",
     "evalue": "unexpected indent (<ipython-input-1-b4dfa62899ae>, line 5)",
     "output_type": "error",
     "traceback": [
      "\u001b[1;36m  File \u001b[1;32m\"<ipython-input-1-b4dfa62899ae>\"\u001b[1;36m, line \u001b[1;32m5\u001b[0m\n\u001b[1;33m    clf = LogisticRegression(penalty='l2', random_state=777, max_iter=10000, tol=10)\u001b[0m\n\u001b[1;37m    ^\u001b[0m\n\u001b[1;31mIndentationError\u001b[0m\u001b[1;31m:\u001b[0m unexpected indent\n"
     ]
    }
   ],
   "source": [
    "grid = {\n",
    "        'C': np.power(10.0, np.arange(-10, 10))\n",
    "         , 'solver': ['newton-cg']\n",
    "    }\n",
    "    clf = LogisticRegression(penalty='l2', random_state=777, max_iter=10000, tol=10)\n",
    "    gs = GridSearchCV(clf, grid, scoring='roc_auc', cv=fold)\n",
    "    gs.fit(X, y)\n",
    "\n",
    "    print ('gs.best_score_:', gs.best_score_)\n",
    "    \n",
    "    \n",
    "    #http://localhost:8888/notebooks/ML%20Nanodegree/Projects1/machine-learning-master/projects/finding_donors/Untitled1.ipynb?kernel_name=python2"
   ]
  },
  {
   "cell_type": "code",
   "execution_count": null,
   "metadata": {
    "collapsed": true
   },
   "outputs": [],
   "source": [
    "#Grid search For AdaBoost() \n",
    "#https://stackoverflow.com/questions/32210569/using-gridsearchcv-with-adaboost-and-decisiontreeclassifier\n",
    "from sklearn.tree import DecisionTreeClassifier\n",
    "from sklearn.ensemble import AdaBoostClassifier\n",
    "from sklearn.grid_search import GridSearchCV\n",
    "\n",
    "param_grid = {dtc__criterion : [\"gini\", \"entropy\"],\n",
    "              dtc__splitter :   [\"best\", \"random\"],\n",
    "              abc__n_estimators: [none, 1, 2]\n",
    "             }\n",
    "\n",
    "\n",
    "DTC = DecisionTreeClassifier(random_state = 11, max_features = \"auto\", class_weight = \"auto\",max_depth = None)\n",
    "\n",
    "ABC = AdaBoostClassifier(base_estimator = DTC)\n",
    "\n",
    "# run grid search\n",
    "grid_search_ABC = GridSearchCV(ABC, param_grid=param_grid, scoring = 'roc_auc')\n",
    "\n",
    "[OUT]\n",
    "ValueError: Invalid parameter dtc for estimator AdaBoostClassifier(algorithm='SAMME.R',\n",
    "      base_estimator=DecisionTreeClassifier(class_weight='auto', criterion='gini', max_depth=None,\n",
    "        max_features='auto', max_leaf_nodes=None, min_samples_leaf=1,\n",
    "        min_samples_split=2, min_weight_fraction_leaf=0.0,\n",
    "        random_state=11, splitter='best'),\n",
    "      learning_rate=1.0, n_estimators=50, random_state=11)"
   ]
  }
 ],
 "metadata": {
  "kernelspec": {
   "display_name": "Python 2",
   "language": "python",
   "name": "python2"
  },
  "language_info": {
   "codemirror_mode": {
    "name": "ipython",
    "version": 2
   },
   "file_extension": ".py",
   "mimetype": "text/x-python",
   "name": "python",
   "nbconvert_exporter": "python",
   "pygments_lexer": "ipython2",
   "version": "2.7.14"
  }
 },
 "nbformat": 4,
 "nbformat_minor": 2
}
